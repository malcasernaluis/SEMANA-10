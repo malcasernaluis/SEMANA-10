{
 "cells": [
  {
   "cell_type": "markdown",
   "id": "2839369d",
   "metadata": {},
   "source": [
    "# SEMANA 06\n",
    "Alumn: Luis Alejandro Serna Malca"
   ]
  },
  {
   "cell_type": "markdown",
   "id": "4971d440",
   "metadata": {},
   "source": [
    "1. Colecciones de datos"
   ]
  },
  {
   "cell_type": "code",
   "execution_count": 53,
   "id": "40709fd6",
   "metadata": {},
   "outputs": [
    {
     "name": "stdout",
     "output_type": "stream",
     "text": [
      "['Yauricasa', 'Granados', 'Alva', 'Laura']\n"
     ]
    }
   ],
   "source": [
    "# 1.1. Listas\n",
    "# Es una colección de elementos que pueden ser ordenados, modificados, etc...\n",
    "# Se identifica por los corchetes [] que muestra la lista.\n",
    "# Ejemplo: \n",
    "aula = ['Yauricasa', 'Granados', 'Alva', 'Laura']\n",
    "print(aula)"
   ]
  },
  {
   "cell_type": "code",
   "execution_count": 54,
   "id": "8b34cb4a",
   "metadata": {},
   "outputs": [
    {
     "data": {
      "text/plain": [
       "['Yauricasa', 'Granados', 'Alva', 'Laura']"
      ]
     },
     "execution_count": 54,
     "metadata": {},
     "output_type": "execute_result"
    }
   ],
   "source": [
    "aula"
   ]
  },
  {
   "cell_type": "code",
   "execution_count": 55,
   "id": "5f89fec2",
   "metadata": {},
   "outputs": [
    {
     "name": "stdout",
     "output_type": "stream",
     "text": [
      "Yauricasa\n",
      "Granados\n"
     ]
    }
   ],
   "source": [
    "# Podemos extraer cada elemento por su posición \n",
    "print(aula[0])\n",
    "print(aula[1])"
   ]
  },
  {
   "cell_type": "code",
   "execution_count": 56,
   "id": "1e640d7f",
   "metadata": {},
   "outputs": [
    {
     "data": {
      "text/plain": [
       "'Chavez'"
      ]
     },
     "execution_count": 56,
     "metadata": {},
     "output_type": "execute_result"
    }
   ],
   "source": [
    "# Puedo asignar un valor a una posicion de la lista\n",
    "aula[1] = 'Chavez'\n",
    "aula[1]"
   ]
  },
  {
   "cell_type": "code",
   "execution_count": 57,
   "id": "b5eb5376",
   "metadata": {},
   "outputs": [
    {
     "data": {
      "text/plain": [
       "['Yauricasa', 'Chavez', 'Alva', 'Laura']"
      ]
     },
     "execution_count": 57,
     "metadata": {},
     "output_type": "execute_result"
    }
   ],
   "source": [
    "# Mostramos como quedo la lista\n",
    "aula"
   ]
  },
  {
   "cell_type": "code",
   "execution_count": 58,
   "id": "63f5a21d",
   "metadata": {},
   "outputs": [],
   "source": [
    "# Para agregar un elemento utilizamos append\n",
    "aula.append(\"Huaman\")\n",
    "aula.append(\"Huancas\")\n",
    "aula.append(\"Chavez\")"
   ]
  },
  {
   "cell_type": "code",
   "execution_count": 59,
   "id": "6a29f931",
   "metadata": {},
   "outputs": [
    {
     "data": {
      "text/plain": [
       "['Yauricasa', 'Chavez', 'Alva', 'Laura', 'Huaman', 'Huancas', 'Chavez']"
      ]
     },
     "execution_count": 59,
     "metadata": {},
     "output_type": "execute_result"
    }
   ],
   "source": [
    "aula"
   ]
  },
  {
   "cell_type": "code",
   "execution_count": 60,
   "id": "8d4b9518",
   "metadata": {},
   "outputs": [
    {
     "data": {
      "text/plain": [
       "['Chavez', 'Alva', 'Laura', 'Huaman', 'Huancas', 'Chavez']"
      ]
     },
     "execution_count": 60,
     "metadata": {},
     "output_type": "execute_result"
    }
   ],
   "source": [
    "# Para eliminar elementos utilizamos remove()\n",
    "aula.remove(\"Yauricasa\")\n",
    "aula"
   ]
  },
  {
   "cell_type": "code",
   "execution_count": 61,
   "id": "d2a782e3",
   "metadata": {},
   "outputs": [
    {
     "data": {
      "text/plain": [
       "['Alva', 'Laura', 'Huaman', 'Huancas', 'Chavez']"
      ]
     },
     "execution_count": 61,
     "metadata": {},
     "output_type": "execute_result"
    }
   ],
   "source": [
    "# Si hubiera varios elementos de valores iguales se elimina la primera coincidencia\n",
    "aula.remove(\"Chavez\")\n",
    "aula"
   ]
  },
  {
   "cell_type": "code",
   "execution_count": 62,
   "id": "48de320f",
   "metadata": {},
   "outputs": [
    {
     "data": {
      "text/plain": [
       "5"
      ]
     },
     "execution_count": 62,
     "metadata": {},
     "output_type": "execute_result"
    }
   ],
   "source": [
    "# Para obtener el tamaño utilizamos len()\n",
    "len(aula)"
   ]
  },
  {
   "cell_type": "code",
   "execution_count": 63,
   "id": "b3605549",
   "metadata": {},
   "outputs": [
    {
     "data": {
      "text/plain": [
       "['Alva', 'Laura', 'Huancas', 'Chavez']"
      ]
     },
     "execution_count": 63,
     "metadata": {},
     "output_type": "execute_result"
    }
   ],
   "source": [
    "# Eliminar elementos por orden\n",
    "aula.remove(aula[2])\n",
    "aula"
   ]
  },
  {
   "cell_type": "code",
   "execution_count": 64,
   "id": "90217b8a",
   "metadata": {},
   "outputs": [
    {
     "data": {
      "text/plain": [
       "'Huancas'"
      ]
     },
     "execution_count": 64,
     "metadata": {},
     "output_type": "execute_result"
    }
   ],
   "source": [
    "# Eliminar por posición\n",
    "aula.pop(2)"
   ]
  },
  {
   "cell_type": "code",
   "execution_count": 65,
   "id": "bfdcb7b9",
   "metadata": {},
   "outputs": [
    {
     "data": {
      "text/plain": [
       "['Alva', 'Laura', 'Chavez']"
      ]
     },
     "execution_count": 65,
     "metadata": {},
     "output_type": "execute_result"
    }
   ],
   "source": [
    "aula"
   ]
  },
  {
   "cell_type": "code",
   "execution_count": 66,
   "id": "d376f442",
   "metadata": {},
   "outputs": [
    {
     "data": {
      "text/plain": [
       "'Chavez'"
      ]
     },
     "execution_count": 66,
     "metadata": {},
     "output_type": "execute_result"
    }
   ],
   "source": [
    "# Eliminar solo la ultima posicion\n",
    "aula.pop()"
   ]
  },
  {
   "cell_type": "code",
   "execution_count": 67,
   "id": "97e0e73a",
   "metadata": {},
   "outputs": [
    {
     "data": {
      "text/plain": [
       "['Alva', 'Laura']"
      ]
     },
     "execution_count": 67,
     "metadata": {},
     "output_type": "execute_result"
    }
   ],
   "source": [
    "aula"
   ]
  },
  {
   "cell_type": "code",
   "execution_count": 68,
   "id": "3854b48a",
   "metadata": {},
   "outputs": [
    {
     "name": "stdout",
     "output_type": "stream",
     "text": [
      "Alva\n",
      "Laura\n"
     ]
    }
   ],
   "source": [
    "for alumno in aula :\n",
    "    print(alumno)"
   ]
  },
  {
   "cell_type": "code",
   "execution_count": 69,
   "id": "aa729eb1",
   "metadata": {},
   "outputs": [
    {
     "data": {
      "text/plain": [
       "['Alva', 'Laura', 'Vilca', 'Gavino']"
      ]
     },
     "execution_count": 69,
     "metadata": {},
     "output_type": "execute_result"
    }
   ],
   "source": [
    "aula.append(\"Vilca\")\n",
    "aula.append(\"Gavino\")\n",
    "aula"
   ]
  },
  {
   "cell_type": "code",
   "execution_count": 70,
   "id": "99ef3451",
   "metadata": {},
   "outputs": [
    {
     "name": "stdout",
     "output_type": "stream",
     "text": [
      "Alva\n",
      "Laura\n",
      "Vilca\n",
      "Gavino\n"
     ]
    }
   ],
   "source": [
    "for alumno in aula :\n",
    "    print(alumno)"
   ]
  },
  {
   "cell_type": "code",
   "execution_count": 71,
   "id": "6a686d99",
   "metadata": {},
   "outputs": [
    {
     "data": {
      "text/plain": [
       "['Gavino', 'Vilca', 'Laura', 'Alva']"
      ]
     },
     "execution_count": 71,
     "metadata": {},
     "output_type": "execute_result"
    }
   ],
   "source": [
    "# Para invertir la lista utilizamos reverse()\n",
    "#Invertir NO SIGNIFICA ordenar en forma descendente sin invertir la lista\n",
    "aula.reverse()\n",
    "aula"
   ]
  },
  {
   "cell_type": "code",
   "execution_count": 72,
   "id": "52991fc6",
   "metadata": {},
   "outputs": [
    {
     "data": {
      "text/plain": [
       "['Alva', 'Gavino', 'Laura', 'Vilca']"
      ]
     },
     "execution_count": 72,
     "metadata": {},
     "output_type": "execute_result"
    }
   ],
   "source": [
    "# Para ordenar una lista utilizamos sort()\n",
    "aula.sort()\n",
    "aula"
   ]
  },
  {
   "cell_type": "code",
   "execution_count": 73,
   "id": "60d2b832",
   "metadata": {},
   "outputs": [
    {
     "data": {
      "text/plain": [
       "('Granados', 'Julca', 'Cusi', 'Marcos')"
      ]
     },
     "execution_count": 73,
     "metadata": {},
     "output_type": "execute_result"
    }
   ],
   "source": [
    "# 1.2 Tuplas\n",
    "# Es una coleccion de elementos ordenada(ordenada significa que tiene un indice)que no se puede modificar ES INALTERABLE\n",
    "# NO SE PUEDEN AGREGAR ELEMENTOS NI ELIMINAR\n",
    "# SE IDENTIFICAN POR LOS PARENTESIS \"\"()\"\"\n",
    "\n",
    "tupla_aula = ('Granados' , 'Julca' , 'Cusi' , 'Marcos')\n",
    "tupla_aula"
   ]
  },
  {
   "cell_type": "code",
   "execution_count": 74,
   "id": "ced910d0",
   "metadata": {},
   "outputs": [
    {
     "name": "stdout",
     "output_type": "stream",
     "text": [
      "Granados\n",
      "Julca\n",
      "Cusi\n",
      "Marcos\n"
     ]
    }
   ],
   "source": [
    "# Se puede recorrer con una estructura repetitiva\n",
    "# Ejemplo for\n",
    "for alumno in tupla_aula:\n",
    "    print(alumno)"
   ]
  },
  {
   "cell_type": "code",
   "execution_count": 75,
   "id": "9a79a62e",
   "metadata": {},
   "outputs": [
    {
     "data": {
      "text/plain": [
       "'Cusi'"
      ]
     },
     "execution_count": 75,
     "metadata": {},
     "output_type": "execute_result"
    }
   ],
   "source": [
    "# Se puede extraer un elemento por su posicion\n",
    "tupla_aula[2]"
   ]
  },
  {
   "cell_type": "code",
   "execution_count": 76,
   "id": "f9f55e73",
   "metadata": {},
   "outputs": [
    {
     "data": {
      "text/plain": [
       "4"
      ]
     },
     "execution_count": 76,
     "metadata": {},
     "output_type": "execute_result"
    }
   ],
   "source": [
    "len(tupla_aula)"
   ]
  },
  {
   "cell_type": "code",
   "execution_count": 77,
   "id": "10905411",
   "metadata": {},
   "outputs": [
    {
     "data": {
      "text/plain": [
       "{'Cusi', 'Granados', 'Julca', 'Marcos'}"
      ]
     },
     "execution_count": 77,
     "metadata": {},
     "output_type": "execute_result"
    }
   ],
   "source": [
    "# 1.3 Conjuntos\n",
    "# Es una coleccion de elementos que no esta ordenado (significa que no tiene indice)\n",
    "# SE IDENTIFICAN EN LLAVES \"{}\"\n",
    "conjunto_aula = {'Granados' , 'Julca' , 'Cusi' , 'Marcos'}\n",
    "conjunto_aula"
   ]
  },
  {
   "cell_type": "code",
   "execution_count": 78,
   "id": "62361c42",
   "metadata": {},
   "outputs": [
    {
     "name": "stdout",
     "output_type": "stream",
     "text": [
      "Cusi\n",
      "Granados\n",
      "Julca\n",
      "Marcos\n"
     ]
    }
   ],
   "source": [
    "# Se puede recorrer utilizando una estructura repetitiva\n",
    "#Ejemplo for:\n",
    "for alumno in conjunto_aula:\n",
    "    print(alumno)"
   ]
  },
  {
   "cell_type": "code",
   "execution_count": 79,
   "id": "f834e8d8",
   "metadata": {},
   "outputs": [],
   "source": [
    "# OBSERVACION: No se puede acceder por posición porque no considera indexación\n",
    "#Ejemplo:\n",
    "# conjunto_aula[2] devolverá un mensaje de error "
   ]
  },
  {
   "cell_type": "code",
   "execution_count": 80,
   "id": "9c9cb48a",
   "metadata": {},
   "outputs": [
    {
     "data": {
      "text/plain": [
       "4"
      ]
     },
     "execution_count": 80,
     "metadata": {},
     "output_type": "execute_result"
    }
   ],
   "source": [
    "len(conjunto_aula)"
   ]
  },
  {
   "cell_type": "code",
   "execution_count": 81,
   "id": "c789e2f3",
   "metadata": {},
   "outputs": [
    {
     "data": {
      "text/plain": [
       "{'Cusi', 'Granados', 'Julca', 'Marcos', 'Motta'}"
      ]
     },
     "execution_count": 81,
     "metadata": {},
     "output_type": "execute_result"
    }
   ],
   "source": [
    "# Para agregar utilizamos la función .add()\n",
    "conjunto_aula.add(\"Motta\")\n",
    "conjunto_aula"
   ]
  },
  {
   "cell_type": "code",
   "execution_count": 82,
   "id": "08cc2e6f",
   "metadata": {},
   "outputs": [
    {
     "data": {
      "text/plain": [
       "{'Cusi', 'Julca', 'Marcos', 'Motta'}"
      ]
     },
     "execution_count": 82,
     "metadata": {},
     "output_type": "execute_result"
    }
   ],
   "source": [
    "conjunto_aula.remove(\"Granados\")\n",
    "conjunto_aula"
   ]
  },
  {
   "cell_type": "code",
   "execution_count": 84,
   "id": "0b3802ec",
   "metadata": {},
   "outputs": [
    {
     "data": {
      "text/plain": [
       "{2: 'Cusi', '1': 'Julca', 'dos': 'Marcos', '0': 'Motta'}"
      ]
     },
     "execution_count": 84,
     "metadata": {},
     "output_type": "execute_result"
    }
   ],
   "source": [
    "# 1.4 Diccionarios\n",
    "# Es una coleccion de elementos, que estan indexados , no estan ordenados y se pueden modificar\n",
    "# Son escritos entre llaves y estan formados por pares de elementos    INDICE: VALOR\n",
    "\n",
    "diccionario_aula = {2:'Cusi' , '1': 'Julca' , 'dos':'Marcos' , '0':'Motta'}\n",
    "diccionario_aula"
   ]
  },
  {
   "cell_type": "code",
   "execution_count": 86,
   "id": "45b0684f",
   "metadata": {},
   "outputs": [
    {
     "data": {
      "text/plain": [
       "'Motta'"
      ]
     },
     "execution_count": 86,
     "metadata": {},
     "output_type": "execute_result"
    }
   ],
   "source": [
    "# Del Diccionario: diccionario_aula estraer el valor cuyo indice sea cero en String\n",
    "diccionario_aula['0']"
   ]
  },
  {
   "cell_type": "code",
   "execution_count": 87,
   "id": "3c5835c3",
   "metadata": {},
   "outputs": [
    {
     "data": {
      "text/plain": [
       "'Cusi'"
      ]
     },
     "execution_count": 87,
     "metadata": {},
     "output_type": "execute_result"
    }
   ],
   "source": [
    "diccionario_aula[2]"
   ]
  },
  {
   "cell_type": "code",
   "execution_count": 88,
   "id": "6e940a89",
   "metadata": {},
   "outputs": [
    {
     "data": {
      "text/plain": [
       "'Marcos'"
      ]
     },
     "execution_count": 88,
     "metadata": {},
     "output_type": "execute_result"
    }
   ],
   "source": [
    "diccionario_aula[\"dos\"]"
   ]
  },
  {
   "cell_type": "code",
   "execution_count": 89,
   "id": "4656992b",
   "metadata": {},
   "outputs": [
    {
     "data": {
      "text/plain": [
       "{2: 'Cusi', '1': 'Julca', 'dos': 'Marcos', '0': 'Motta', '20': 'Serna'}"
      ]
     },
     "execution_count": 89,
     "metadata": {},
     "output_type": "execute_result"
    }
   ],
   "source": [
    "diccionario_aula['20'] = \"Serna\"\n",
    "diccionario_aula"
   ]
  },
  {
   "cell_type": "code",
   "execution_count": 90,
   "id": "505f078a",
   "metadata": {},
   "outputs": [
    {
     "data": {
      "text/plain": [
       "{'1': 'Julca', 'dos': 'Marcos', '0': 'Motta', '20': 'Serna'}"
      ]
     },
     "execution_count": 90,
     "metadata": {},
     "output_type": "execute_result"
    }
   ],
   "source": [
    "#Para eliminar un valor se utiliza .pop()\n",
    "#Ejemplo eliminar el elemento e indice 2:\n",
    "diccionario_aula.pop(2)\n",
    "diccionario_aula\n"
   ]
  },
  {
   "cell_type": "code",
   "execution_count": 91,
   "id": "0eb5b6b4",
   "metadata": {},
   "outputs": [
    {
     "data": {
      "text/plain": [
       "{'1': 'Julca', '0': 'Motta', '20': 'Serna'}"
      ]
     },
     "execution_count": 91,
     "metadata": {},
     "output_type": "execute_result"
    }
   ],
   "source": [
    "# Eliminar utilizando del()\n",
    "del (diccionario_aula[\"dos\"])\n",
    "diccionario_aula"
   ]
  },
  {
   "cell_type": "code",
   "execution_count": 93,
   "id": "e1257ede",
   "metadata": {},
   "outputs": [
    {
     "name": "stdout",
     "output_type": "stream",
     "text": [
      "1\n",
      "0\n",
      "20\n"
     ]
    }
   ],
   "source": [
    "# Para recorrer todos los elementos utilizamos for\n",
    "# Ejemplo: devuelve indices\n",
    "\n",
    "for indice in diccionario_aula:\n",
    "    print(indice)"
   ]
  },
  {
   "cell_type": "code",
   "execution_count": 94,
   "id": "9681f47d",
   "metadata": {},
   "outputs": [
    {
     "name": "stdout",
     "output_type": "stream",
     "text": [
      "1 Julca\n",
      "0 Motta\n",
      "20 Serna\n"
     ]
    }
   ],
   "source": [
    "#Para obtener el indice y el valor de cada elemento utilizamos .items()\n",
    "for indice,valor in diccionario_aula.items():\n",
    "    print(indice, valor)"
   ]
  },
  {
   "cell_type": "code",
   "execution_count": 95,
   "id": "eee1d16d",
   "metadata": {},
   "outputs": [],
   "source": [
    "# 1.5 Ejercicio:\n",
    "# Dada una lista de [ALANYA , ALVA , AZAÑERO , CARRASCO , CCACCYA , COSME , CUSI , DIAZ , FLORES , GOMEZ , GOMEZ , GRANADOS ,\n",
    "# HUANCAS , JULCA , LAURA , MOTTA , PINEDO , PONCE , QUINTANA , RODRIGUEZ , SERNA , VILCA , YAURICASA]\n",
    "# Diseñar un codigo que muestre si el apellido de un estudiante  ( ingreso por teclado ) forma parte de la lista\n",
    "# Tiempo 12 min."
   ]
  },
  {
   "cell_type": "code",
   "execution_count": 119,
   "id": "e5fc9b7a",
   "metadata": {},
   "outputs": [
    {
     "name": "stdout",
     "output_type": "stream",
     "text": [
      "Ingrese nombre del estudiante a encontrar: \n",
      "serna\n",
      "El Alumno si esta en la lista\n"
     ]
    }
   ],
   "source": [
    "lista = [ 'ALANYA' , 'ALVA' , 'AZAÑERO' , 'CARRASCO' , 'CCACCYA' , 'COSME' , 'CUSI' , 'DIAZ' , 'FLORES' , 'GOMEZ' , 'GOMEZ' , 'GRANADOS' , 'HUANCAS' , 'JULCA' , 'LAURA' , 'MOTTA' , 'PINEDO' , 'PONCE' , 'QUINTANA' ,'RODRIGUEZ' , 'SERNA' , 'VILCA' , 'YAURICASA' ]\n",
    "print(\"Ingrese nombre del estudiante a encontrar: \")\n",
    "alumno = input()\n",
    "alumno = alumno.upper()\n",
    "\n",
    "if alumno in lista :\n",
    "    print(\"El Alumno si esta en la lista\")\n",
    "else:\n",
    "    print(\"El Alumno no esta en la lista\")"
   ]
  },
  {
   "cell_type": "code",
   "execution_count": null,
   "id": "2a5bf2d8",
   "metadata": {},
   "outputs": [],
   "source": []
  }
 ],
 "metadata": {
  "kernelspec": {
   "display_name": "Python 3 (ipykernel)",
   "language": "python",
   "name": "python3"
  },
  "language_info": {
   "codemirror_mode": {
    "name": "ipython",
    "version": 3
   },
   "file_extension": ".py",
   "mimetype": "text/x-python",
   "name": "python",
   "nbconvert_exporter": "python",
   "pygments_lexer": "ipython3",
   "version": "3.9.7"
  }
 },
 "nbformat": 4,
 "nbformat_minor": 5
}
