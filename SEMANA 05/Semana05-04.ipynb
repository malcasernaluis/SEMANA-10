{
 "cells": [
  {
   "cell_type": "markdown",
   "id": "f3024a8f",
   "metadata": {},
   "source": [
    "# SEMANA 05\n",
    "Alumno: Luis Alejandro Serna Malca"
   ]
  },
  {
   "cell_type": "raw",
   "id": "35f64812",
   "metadata": {},
   "source": [
    "Temas"
   ]
  },
  {
   "cell_type": "markdown",
   "id": "9130d60a",
   "metadata": {},
   "source": [
    "1. Números\n",
    "2. Variables\n",
    "3. Manejo de cadenas\n",
    "4. Ingreso de datos por teclado\n",
    "5. Operadores\n",
    "6. Variables"
   ]
  },
  {
   "cell_type": "markdown",
   "id": "2957c0b7",
   "metadata": {},
   "source": [
    "4. Ingreso de datos por el teclado"
   ]
  },
  {
   "cell_type": "code",
   "execution_count": 1,
   "id": "9c3d5c23",
   "metadata": {
    "scrolled": true
   },
   "outputs": [
    {
     "name": "stdout",
     "output_type": "stream",
     "text": [
      "¿Cual es tu nombre?\n",
      "Luiz\n",
      "Hola Luiz\n"
     ]
    }
   ],
   "source": [
    "# Función input()\n",
    "print(\"¿Cual es tu nombre?\")\n",
    "nombre = input()\n",
    "print(\"Hola \" + nombre)"
   ]
  },
  {
   "cell_type": "code",
   "execution_count": 4,
   "id": "dee6f339",
   "metadata": {},
   "outputs": [
    {
     "name": "stdout",
     "output_type": "stream",
     "text": [
      "numero1: \n",
      "4\n",
      "numero2: \n",
      "5\n",
      "El Ressultado es : 9\n"
     ]
    }
   ],
   "source": [
    "# Cuando ingresa un valor por teclado lo hace como cadena\n",
    "print(\"numero1: \")\n",
    "numero1 = input()\n",
    "print(\"numero2: \")\n",
    "numero2 = input()\n",
    "numero3 = int(numero1) + int (numero2)\n",
    "print(f\"El Ressultado es : {numero3}\")"
   ]
  }
 ],
 "metadata": {
  "kernelspec": {
   "display_name": "Python 3 (ipykernel)",
   "language": "python",
   "name": "python3"
  },
  "language_info": {
   "codemirror_mode": {
    "name": "ipython",
    "version": 3
   },
   "file_extension": ".py",
   "mimetype": "text/x-python",
   "name": "python",
   "nbconvert_exporter": "python",
   "pygments_lexer": "ipython3",
   "version": "3.9.7"
  }
 },
 "nbformat": 4,
 "nbformat_minor": 5
}
