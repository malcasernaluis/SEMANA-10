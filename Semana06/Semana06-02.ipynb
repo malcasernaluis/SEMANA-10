{
 "cells": [
  {
   "cell_type": "markdown",
   "id": "313de154",
   "metadata": {},
   "source": [
    "# SEMANA 06\n",
    "Alumno : Serna Malca Luis Alejandro"
   ]
  },
  {
   "cell_type": "raw",
   "id": "8b85f063",
   "metadata": {},
   "source": [
    "# Temas\n",
    "\n",
    "1. Colecciones de datos\n",
    "2. Estructuras Decisivas y Estructuras Repetitivas\n",
    "3. Funciones\n",
    "4. Calses y objetos"
   ]
  },
  {
   "cell_type": "markdown",
   "id": "a0176623",
   "metadata": {},
   "source": [
    "2. Estructuras Decisivas y Estructuras Repetitivas"
   ]
  },
  {
   "cell_type": "code",
   "execution_count": 2,
   "id": "3158d368",
   "metadata": {},
   "outputs": [],
   "source": [
    "# 2.1 Estructuras Decisivas (if, elif, else)"
   ]
  },
  {
   "cell_type": "code",
   "execution_count": 3,
   "id": "56a69659",
   "metadata": {},
   "outputs": [],
   "source": [
    "# if\n",
    "# Problema: Dado el precio de 3 productos ingresados por el teclado, aplicar un descuento del 10% si la venta es mayor\n",
    "# o igual a 1000"
   ]
  },
  {
   "cell_type": "code",
   "execution_count": 7,
   "id": "f66b309d",
   "metadata": {},
   "outputs": [
    {
     "name": "stdout",
     "output_type": "stream",
     "text": [
      "Producto 1: 800\n",
      "Producto 2: 200\n",
      "Producto 3: 100\n",
      "Total a Pagar es: 990.0 \n"
     ]
    }
   ],
   "source": [
    "P1 = float(input(\"Producto 1: \"))\n",
    "P2 = float(input(\"Producto 2: \"))\n",
    "P3 = float(input(\"Producto 3: \"))\n",
    "total = P1 + P2 + P3  \n",
    "if total >= 1000:\n",
    "    total = 90*(total/100)\n",
    "    \n",
    "print(f\"Total a Pagar es: {total} \")"
   ]
  },
  {
   "cell_type": "code",
   "execution_count": 8,
   "id": "500a5078",
   "metadata": {},
   "outputs": [],
   "source": [
    "# Problema 02\n",
    "# Dado el importe total de ventas realizadas por un trabajador (ingresado por teclado, \n",
    "# categorizar que tipo de empleado es, considerando la siguiente tabla:\n",
    "\n",
    "# Categoria: A -> [0, 1000]\n",
    "# Categoria: B -> <1000, 2000]\n",
    "# Categoria: C -> <2000, 5000]\n",
    "# Categoría: D -> <5000, Mas]\n",
    "\n",
    "# Tiempo asignado: 12 minutos"
   ]
  },
  {
   "cell_type": "code",
   "execution_count": 12,
   "id": "9ab7fb5e",
   "metadata": {},
   "outputs": [
    {
     "name": "stdout",
     "output_type": "stream",
     "text": [
      "Ingrese el monto de ventas: -1\n",
      "NO PERTENECE A NINGUNA CATEGORIA\n"
     ]
    }
   ],
   "source": [
    "importe = float ( input(\"Ingrese el monto de ventas: \"))\n",
    "if importe >=0 and importe <=1000:\n",
    "    print (\"ES CATEGORIA 'A'\")\n",
    "elif importe>1000 and importe <=2000:\n",
    "    print(\"ES CATEGORIA 'B' \")\n",
    "elif importe>2000 and importe <= 5000:\n",
    "    print(\"ES CATEGORIA 'C' \")\n",
    "elif importe>5000:\n",
    "    print(\"ES CATEGORIA 'D' \")\n",
    "else :\n",
    "    print(\"NO PERTENECE A NINGUNA CATEGORIA\")"
   ]
  },
  {
   "cell_type": "code",
   "execution_count": 13,
   "id": "a26b0d94",
   "metadata": {},
   "outputs": [],
   "source": [
    "# 1.5 Ejercicio:\n",
    "# Dada una lista de [ALANYA , ALVA , AZAÑERO , CARRASCO , CCACCYA , COSME , CUSI , DIAZ , FLORES , GOMEZ , GOMEZ , GRANADOS ,\n",
    "# HUANCAS , JULCA , LAURA , MOTTA , PINEDO , PONCE , QUINTANA , RODRIGUEZ , SERNA , VILCA , YAURICASA]\n",
    "# Diseñar un codigo que muestre si el apellido de un estudiante  ( ingreso por teclado ) forma parte de la lista\n",
    "# Tiempo 12 min."
   ]
  },
  {
   "cell_type": "code",
   "execution_count": 14,
   "id": "a9868a12",
   "metadata": {},
   "outputs": [
    {
     "name": "stdout",
     "output_type": "stream",
     "text": [
      "Ingrese nombre del estudiante a encontrar: \n",
      "SERNA\n",
      "El Alumno si esta en la lista\n"
     ]
    }
   ],
   "source": [
    "lista = [ 'ALANYA' , 'ALVA' , 'AZAÑERO' , 'CARRASCO' , 'CCACCYA' , 'COSME' , 'CUSI' , 'DIAZ' , 'FLORES' , 'GOMEZ' , 'GOMEZ' , 'GRANADOS' , 'HUANCAS' , 'JULCA' , 'LAURA' , 'MOTTA' , 'PINEDO' , 'PONCE' , 'QUINTANA' ,'RODRIGUEZ' , 'SERNA' , 'VILCA' , 'YAURICASA' ]\n",
    "print(\"Ingrese nombre del estudiante a encontrar: \")\n",
    "alumno = input()\n",
    "alumno = alumno.upper()\n",
    "\n",
    "if alumno in lista :\n",
    "    print(\"El Alumno si esta en la lista\")\n",
    "else:\n",
    "    print(\"El Alumno no esta en la lista\")"
   ]
  },
  {
   "cell_type": "code",
   "execution_count": 15,
   "id": "43f19b96",
   "metadata": {},
   "outputs": [
    {
     "name": "stdout",
     "output_type": "stream",
     "text": [
      "Ingrese el monto de ventas: 80\n",
      "ES CATEGORIA 'A'\n",
      "NO PERTENECE A NINGUNA CATEGORIA\n"
     ]
    }
   ],
   "source": [
    "importe = float ( input(\"Ingrese el monto de ventas: \"))\n",
    "if importe >=0 and importe <=1000:\n",
    "    print (\"ES CATEGORIA 'A'\")\n",
    "if importe>1000 and importe <=2000:\n",
    "    print(\"ES CATEGORIA 'B' \")\n",
    "if importe>2000 and importe <= 5000:\n",
    "    print(\"ES CATEGORIA 'C' \")\n",
    "if importe>5000:\n",
    "    print(\"ES CATEGORIA 'D' \")\n",
    "else :\n",
    "    print(\"NO PERTENECE A NINGUNA CATEGORIA\")"
   ]
  },
  {
   "cell_type": "code",
   "execution_count": 16,
   "id": "88b43037",
   "metadata": {},
   "outputs": [],
   "source": [
    "# Estructuras Repetitivas"
   ]
  },
  {
   "cell_type": "code",
   "execution_count": 17,
   "id": "e396b09c",
   "metadata": {},
   "outputs": [],
   "source": [
    "# For"
   ]
  },
  {
   "cell_type": "code",
   "execution_count": 18,
   "id": "32f4ae14",
   "metadata": {},
   "outputs": [],
   "source": [
    "#Problema 01:\n",
    "# Mostrar los elementos de una lista utilizando for:"
   ]
  },
  {
   "cell_type": "code",
   "execution_count": 20,
   "id": "5b07cd16",
   "metadata": {},
   "outputs": [
    {
     "name": "stdout",
     "output_type": "stream",
     "text": [
      "Yauricasa\n",
      "Granados\n",
      "Alva\n",
      "Laura\n"
     ]
    }
   ],
   "source": [
    "# Solucion \n",
    "aula = ['Yauricasa','Granados','Alva','Laura']\n",
    "# Por cada alumno que esta en la lista , imprimir alumno\n",
    "\n",
    "for alumno in aula :\n",
    "    print(alumno)"
   ]
  },
  {
   "cell_type": "code",
   "execution_count": 21,
   "id": "43626c96",
   "metadata": {},
   "outputs": [],
   "source": [
    "# Problema 02\n",
    "# Dado una cadena ingresado por teclado, mostrar cada caracter de la cadena, utilizando la estructura for"
   ]
  },
  {
   "cell_type": "code",
   "execution_count": 22,
   "id": "fc793a9d",
   "metadata": {},
   "outputs": [
    {
     "name": "stdout",
     "output_type": "stream",
     "text": [
      "Ingrese cadena: Todo lo que el mundo necesita es amor\n",
      "T\n",
      "o\n",
      "d\n",
      "o\n",
      " \n",
      "l\n",
      "o\n",
      " \n",
      "q\n",
      "u\n",
      "e\n",
      " \n",
      "e\n",
      "l\n",
      " \n",
      "m\n",
      "u\n",
      "n\n",
      "d\n",
      "o\n",
      " \n",
      "n\n",
      "e\n",
      "c\n",
      "e\n",
      "s\n",
      "i\n",
      "t\n",
      "a\n",
      " \n",
      "e\n",
      "s\n",
      " \n",
      "a\n",
      "m\n",
      "o\n",
      "r\n"
     ]
    }
   ],
   "source": [
    "# Solucion \n",
    "\n",
    "cadena = input(\"Ingrese cadena: \")\n",
    "for caracter in cadena:\n",
    "    print(caracter)"
   ]
  },
  {
   "cell_type": "code",
   "execution_count": 24,
   "id": "db059f60",
   "metadata": {},
   "outputs": [
    {
     "data": {
      "text/plain": [
       "range(0, 5)"
      ]
     },
     "execution_count": 24,
     "metadata": {},
     "output_type": "execute_result"
    }
   ],
   "source": [
    "# Para generar rangos de los numeros range()\n",
    "range(5)"
   ]
  },
  {
   "cell_type": "code",
   "execution_count": 28,
   "id": "a66a63b0",
   "metadata": {},
   "outputs": [
    {
     "name": "stdout",
     "output_type": "stream",
     "text": [
      "0\n",
      "1\n",
      "2\n",
      "3\n",
      "4\n",
      "5\n",
      "6\n",
      "7\n",
      "8\n",
      "9\n",
      "10\n"
     ]
    }
   ],
   "source": [
    "# Imprimir los números de 0 a 10, utilizando for\n",
    "\n",
    "numeros = range(11)\n",
    "for numero in numeros :\n",
    "    print(numero)"
   ]
  },
  {
   "cell_type": "code",
   "execution_count": 30,
   "id": "4c45f12b",
   "metadata": {},
   "outputs": [
    {
     "name": "stdout",
     "output_type": "stream",
     "text": [
      "0\n",
      "1\n",
      "2\n",
      "3\n",
      "4\n",
      "5\n",
      "6\n",
      "7\n",
      "8\n",
      "9\n",
      "10\n"
     ]
    }
   ],
   "source": [
    "# otra forma : \n",
    "for numero in range(11):\n",
    "    print(numero)"
   ]
  },
  {
   "cell_type": "code",
   "execution_count": 31,
   "id": "cc36d43c",
   "metadata": {},
   "outputs": [
    {
     "name": "stdout",
     "output_type": "stream",
     "text": [
      "10\n",
      "12\n",
      "14\n",
      "16\n",
      "18\n",
      "20\n"
     ]
    }
   ],
   "source": [
    "# Problema 02 \n",
    "# Imprimir los numeros de 10 a 20, utilizando for\n",
    "\n",
    "for numero in range (10,22,2):\n",
    "    print(numero)"
   ]
  },
  {
   "cell_type": "code",
   "execution_count": 37,
   "id": "2b3e3872",
   "metadata": {},
   "outputs": [
    {
     "name": "stdout",
     "output_type": "stream",
     "text": [
      "Lista en orden es: \n",
      "[-1000, -10, 0, 0, 5, 10, 17, 20, 50, 100, 2000]\n"
     ]
    }
   ],
   "source": [
    "# Problema 03\n",
    "# Dado una lista de números, utilizando el algoritmo de burbuja ordenarlos de menor a mayor\n",
    "# Codigo en java\n",
    "# package ordenamiento;\n",
    "# public class burbuja {\n",
    "#    public static void main(String[] args) {\n",
    "#        int temp; \n",
    "#        int lista[]={10,20,5,-10,100, 0, 50, 17, 2000,-1000,0};\n",
    "#        for(int i=0;i<lista.length-1;i++){\n",
    "#            for(int j=i+1; j<lista.length; j++){\n",
    "#                if(lista[i]>lista[j]){\n",
    "#                    temp = lista[i];\n",
    "#                    lista[i] = lista[j];\n",
    "#                    lista[j] = temp;\n",
    "#                }                              \n",
    "# \n",
    "\n",
    "lista = [10,20,5,-10,100, 0, 50, 17, 2000,-1000,0]\n",
    "i = 0 \n",
    "for i in range ( 0 , len(lista)-1):\n",
    "    for j in range ( i+1 , len(lista)):\n",
    "        if lista[i] > lista [j]:\n",
    "            temp = lista[i]\n",
    "            lista[i] = lista [j]\n",
    "            lista [j] = temp\n",
    "\n",
    "print(\"Lista en orden es: \")\n",
    "print(lista)"
   ]
  },
  {
   "cell_type": "code",
   "execution_count": 38,
   "id": "17119684",
   "metadata": {},
   "outputs": [],
   "source": [
    "# while \n",
    "# permite ejecutar un conjunto de acciones mientras se cumpla una condicion \n",
    "# Ejemplo "
   ]
  },
  {
   "cell_type": "code",
   "execution_count": 39,
   "id": "49ccbb16",
   "metadata": {},
   "outputs": [
    {
     "name": "stdout",
     "output_type": "stream",
     "text": [
      "1\n",
      "2\n",
      "3\n",
      "4\n",
      "5\n",
      "6\n",
      "7\n",
      "8\n",
      "9\n",
      "10\n"
     ]
    }
   ],
   "source": [
    "numero = 1 \n",
    "fin = 10 \n",
    "while numero <= fin:\n",
    "    print(numero)\n",
    "    numero += 1"
   ]
  },
  {
   "cell_type": "code",
   "execution_count": null,
   "id": "48da2c43",
   "metadata": {},
   "outputs": [],
   "source": []
  }
 ],
 "metadata": {
  "kernelspec": {
   "display_name": "Python 3 (ipykernel)",
   "language": "python",
   "name": "python3"
  },
  "language_info": {
   "codemirror_mode": {
    "name": "ipython",
    "version": 3
   },
   "file_extension": ".py",
   "mimetype": "text/x-python",
   "name": "python",
   "nbconvert_exporter": "python",
   "pygments_lexer": "ipython3",
   "version": "3.9.7"
  }
 },
 "nbformat": 4,
 "nbformat_minor": 5
}
