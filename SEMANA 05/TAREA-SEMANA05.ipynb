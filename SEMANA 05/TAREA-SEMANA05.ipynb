{
 "cells": [
  {
   "cell_type": "markdown",
   "id": "301b54ba",
   "metadata": {},
   "source": [
    "# TAREA SEMANA05\n",
    "\n",
    "INTEGRANTES:"
   ]
  },
  {
   "cell_type": "markdown",
   "id": "8dac8dd2",
   "metadata": {},
   "source": [
    "1. Luis Serna Malca \n",
    "2. Anselmo Huancas Leuyacc\n",
    "3. Antony Ccaccya Huaman\n",
    "              "
   ]
  },
  {
   "cell_type": "markdown",
   "id": "f83053e2",
   "metadata": {},
   "source": [
    "1. Ejercicio: Desarrollar un video explicando (Imagen + Código en python) como 2 variables comparten el mismo objeto. (Tiempo Máximo del video: 5 minutos). Enviar link al aula virtual\n"
   ]
  },
  {
   "cell_type": "code",
   "execution_count": 2,
   "id": "015061ee",
   "metadata": {},
   "outputs": [],
   "source": [
    "from PIL import Image\n",
    "img = Image.open(\"logo1.png\")\n",
    "img.show()"
   ]
  },
  {
   "cell_type": "code",
   "execution_count": 10,
   "id": "d9b5b99d",
   "metadata": {},
   "outputs": [
    {
     "data": {
      "text/plain": [
       "True"
      ]
     },
     "execution_count": 10,
     "metadata": {},
     "output_type": "execute_result"
    }
   ],
   "source": [
    "variable1 = [\"Luis\" , \"Anselmo\" , \"Antony\"]\n",
    "variable2 = [ \"Luis\" , \"Anselmo\" , \"Antony\"]\n",
    "variable3 = variable2\n",
    "variable3 is variable2"
   ]
  },
  {
   "cell_type": "code",
   "execution_count": 11,
   "id": "0285b263",
   "metadata": {},
   "outputs": [
    {
     "data": {
      "text/plain": [
       "False"
      ]
     },
     "execution_count": 11,
     "metadata": {},
     "output_type": "execute_result"
    }
   ],
   "source": [
    "variable3 is variable1"
   ]
  },
  {
   "cell_type": "code",
   "execution_count": 9,
   "id": "f560ecd7",
   "metadata": {},
   "outputs": [
    {
     "data": {
      "text/plain": [
       "True"
      ]
     },
     "execution_count": 9,
     "metadata": {},
     "output_type": "execute_result"
    }
   ],
   "source": [
    "variable1 = 3\n",
    "variable2 = 3\n",
    "variable1 is variable2"
   ]
  }
 ],
 "metadata": {
  "kernelspec": {
   "display_name": "Python 3 (ipykernel)",
   "language": "python",
   "name": "python3"
  },
  "language_info": {
   "codemirror_mode": {
    "name": "ipython",
    "version": 3
   },
   "file_extension": ".py",
   "mimetype": "text/x-python",
   "name": "python",
   "nbconvert_exporter": "python",
   "pygments_lexer": "ipython3",
   "version": "3.9.7"
  }
 },
 "nbformat": 4,
 "nbformat_minor": 5
}
