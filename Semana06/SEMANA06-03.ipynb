{
 "cells": [
  {
   "cell_type": "markdown",
   "id": "a9e94fc9",
   "metadata": {},
   "source": [
    "# SEMANA 03\n",
    "alumno : Serna Malca Luis Alejandro"
   ]
  },
  {
   "cell_type": "code",
   "execution_count": 1,
   "id": "d872bd59",
   "metadata": {},
   "outputs": [],
   "source": [
    "# Tambien conocidos como métodos\n",
    "\n",
    "#Para crear un método utilizamos : def\n",
    "# Tenemos 4 métodos:\n",
    "# -Metodos vacios\n",
    "# -Metodos que reciben valores\n",
    "# -Metodos que devuelven un valor\n",
    "# -Metodos que reciben y devuelven valores "
   ]
  },
  {
   "cell_type": "code",
   "execution_count": 13,
   "id": "e14328d9",
   "metadata": {},
   "outputs": [],
   "source": [
    "# 3.1 Metodos vacios\n",
    "# No reciben valores (parámetros)\n",
    "def saludo() :\n",
    "    print(\"Bienvenidos al curso de LP3\")\n",
    "    print(\"***** PYTHON *****\")"
   ]
  },
  {
   "cell_type": "code",
   "execution_count": 14,
   "id": "33e3d2cf",
   "metadata": {},
   "outputs": [
    {
     "name": "stdout",
     "output_type": "stream",
     "text": [
      "Bienvenidos al curso de LP3\n",
      "***** PYTHON *****\n"
     ]
    }
   ],
   "source": [
    "saludo()"
   ]
  },
  {
   "cell_type": "code",
   "execution_count": 15,
   "id": "fc4693ff",
   "metadata": {},
   "outputs": [
    {
     "name": "stdout",
     "output_type": "stream",
     "text": [
      "Ingrese el Numero: 5\n",
      "El factorial es: 1\n",
      "El factorial es: 2\n",
      "El factorial es: 6\n",
      "El factorial es: 24\n",
      "El factorial es: 120\n"
     ]
    }
   ],
   "source": [
    "# 3.2 Métodos que reciben valores\n",
    "\n",
    "def factorial(numero):\n",
    "    fac=1\n",
    "    for i in range(1, numero+1):\n",
    "        fac*=i\n",
    "        # fac = fac*i\n",
    "        print(f\"El factorial es: {fac}\")\n",
    "numero = int(input(\"Ingrese el Numero: \"))\n",
    "factorial(numero)"
   ]
  },
  {
   "cell_type": "code",
   "execution_count": 7,
   "id": "d80ed5b2",
   "metadata": {},
   "outputs": [],
   "source": [
    "# 3.3 Metodos que devuelven valores\n",
    "def saludo2():\n",
    "        mensaje = \"Bienvenidos a LP3\"\n",
    "        return mensaje"
   ]
  },
  {
   "cell_type": "code",
   "execution_count": 8,
   "id": "f1db527c",
   "metadata": {},
   "outputs": [
    {
     "name": "stdout",
     "output_type": "stream",
     "text": [
      "Bienvenidos a LP3\n"
     ]
    }
   ],
   "source": [
    "print(saludo2())"
   ]
  },
  {
   "cell_type": "code",
   "execution_count": 16,
   "id": "2df03f9c",
   "metadata": {},
   "outputs": [],
   "source": [
    "# 3.4 Metodos que reciben y devuelven valores \n",
    "def factorial2(numero):\n",
    "    fac = 1\n",
    "    for i in range(1, numero+1):\n",
    "        fac*=i\n",
    "    return fac"
   ]
  },
  {
   "cell_type": "code",
   "execution_count": 17,
   "id": "465ccd74",
   "metadata": {},
   "outputs": [
    {
     "name": "stdout",
     "output_type": "stream",
     "text": [
      "Numero: 5\n",
      "El factorial de 5 es 120\n"
     ]
    }
   ],
   "source": [
    "numero = int(input(\"Numero: \"))\n",
    "print(f\"El factorial de {numero} es {factorial2(numero)}\")"
   ]
  },
  {
   "cell_type": "code",
   "execution_count": 18,
   "id": "e771ef6e",
   "metadata": {},
   "outputs": [
    {
     "data": {
      "text/plain": [
       "140"
      ]
     },
     "execution_count": 18,
     "metadata": {},
     "output_type": "execute_result"
    }
   ],
   "source": [
    "# Otro ejemplo:\n",
    "# Calcular el igv\n",
    "\n",
    "def obtenerigv(importe):\n",
    "    return importe*0.19\n",
    "obtenerigv(150)\n",
    "factorial2(5) +20"
   ]
  },
  {
   "cell_type": "code",
   "execution_count": null,
   "id": "080c7d6a",
   "metadata": {},
   "outputs": [],
   "source": []
  }
 ],
 "metadata": {
  "kernelspec": {
   "display_name": "Python 3 (ipykernel)",
   "language": "python",
   "name": "python3"
  },
  "language_info": {
   "codemirror_mode": {
    "name": "ipython",
    "version": 3
   },
   "file_extension": ".py",
   "mimetype": "text/x-python",
   "name": "python",
   "nbconvert_exporter": "python",
   "pygments_lexer": "ipython3",
   "version": "3.9.7"
  }
 },
 "nbformat": 4,
 "nbformat_minor": 5
}
